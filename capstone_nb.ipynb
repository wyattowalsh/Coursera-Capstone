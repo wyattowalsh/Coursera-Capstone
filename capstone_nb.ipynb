{
 "cells": [
  {
   "cell_type": "markdown",
   "id": "integrated-viewer",
   "metadata": {},
   "source": [
    "# Capstone Project Notebook\n",
    "\n",
    "---\n",
    "\n",
    "<details>\n",
    "    <summary> This notebook will mainly be used for the completion of the IBM data science capstone project </summary>\n",
    "    \n",
    "---\n",
    "    \n",
    "</details>\n",
    "\n",
    "---"
   ]
  },
  {
   "cell_type": "code",
   "execution_count": 1,
   "id": "authentic-maple",
   "metadata": {
    "ExecuteTime": {
     "end_time": "2021-02-02T06:16:09.288180Z",
     "start_time": "2021-02-02T06:15:57.881375Z"
    }
   },
   "outputs": [],
   "source": [
    "import pandas as pd\n",
    "import numpy as np"
   ]
  },
  {
   "cell_type": "code",
   "execution_count": 2,
   "id": "growing-election",
   "metadata": {
    "ExecuteTime": {
     "end_time": "2021-02-02T06:16:12.786375Z",
     "start_time": "2021-02-02T06:16:12.781429Z"
    }
   },
   "outputs": [
    {
     "name": "stdout",
     "output_type": "stream",
     "text": [
      "Hello Capstone Project Course!\n"
     ]
    }
   ],
   "source": [
    "print(\"Hello Capstone Project Course!\")"
   ]
  }
 ],
 "metadata": {
  "kernelspec": {
   "display_name": "Python [conda env:coursera] *",
   "language": "python",
   "name": "conda-env-coursera-py"
  },
  "latex_envs": {
   "LaTeX_envs_menu_present": true,
   "autoclose": true,
   "autocomplete": true,
   "bibliofile": "biblio.bib",
   "cite_by": "apalike",
   "current_citInitial": 1,
   "eqLabelWithNumbers": true,
   "eqNumInitial": 1,
   "hotkeys": {
    "equation": "Ctrl-E",
    "itemize": "Ctrl-I"
   },
   "labels_anchors": false,
   "latex_user_defs": false,
   "report_style_numbering": false,
   "user_envs_cfg": false
  },
  "toc": {
   "base_numbering": 1,
   "nav_menu": {},
   "number_sections": true,
   "sideBar": true,
   "skip_h1_title": true,
   "title_cell": "Table of Contents",
   "title_sidebar": "Contents",
   "toc_cell": false,
   "toc_position": {},
   "toc_section_display": true,
   "toc_window_display": true
  }
 },
 "nbformat": 4,
 "nbformat_minor": 5
}
