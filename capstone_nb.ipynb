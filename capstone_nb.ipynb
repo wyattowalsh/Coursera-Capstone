{
 "cells": [
  {
   "cell_type": "markdown",
   "id": "integrated-viewer",
   "metadata": {},
   "source": [
    "# Capstone Project Notebook\n",
    "\n",
    "---\n",
    "\n",
    "<details>\n",
    "    <summary> This notebook will mainly be used for the completion of the IBM data science capstone project </summary>\n",
    "    \n",
    "---\n",
    "    \n",
    "</details>\n",
    "\n",
    "---"
   ]
  },
  {
   "cell_type": "code",
   "execution_count": 4,
   "id": "authentic-maple",
   "metadata": {
    "ExecuteTime": {
     "end_time": "2021-02-02T22:53:27.516005Z",
     "start_time": "2021-02-02T22:53:26.625155Z"
    }
   },
   "outputs": [],
   "source": [
    "import pandas as pd\n",
    "import numpy as np"
   ]
  },
  {
   "cell_type": "code",
   "execution_count": 1,
   "id": "growing-election",
   "metadata": {
    "ExecuteTime": {
     "end_time": "2021-02-02T22:52:27.658383Z",
     "start_time": "2021-02-02T22:52:27.652751Z"
    }
   },
   "outputs": [
    {
     "name": "stdout",
     "output_type": "stream",
     "text": [
      "Hello Capstone Project Course!\n"
     ]
    }
   ],
   "source": [
    "print(\"Hello Capstone Project Course!\")"
   ]
  },
  {
   "cell_type": "markdown",
   "id": "random-sterling",
   "metadata": {},
   "source": [
    "## Week 3\n",
    "\n",
    "---\n",
    "\n",
    "- Pull data in from Wiki\n",
    "- Preprocess data by:\n",
    "    - removing \"Not assigned\" boroughs\n",
    "    - checking for \"Not assigned\" Neighbourhoods\n",
    "- Display shape"
   ]
  },
  {
   "cell_type": "code",
   "execution_count": 24,
   "id": "electoral-junior",
   "metadata": {
    "ExecuteTime": {
     "end_time": "2021-02-02T23:05:55.093118Z",
     "start_time": "2021-02-02T23:05:54.831308Z"
    }
   },
   "outputs": [
    {
     "name": "stdout",
     "output_type": "stream",
     "text": [
      "There are  103  rows\n"
     ]
    }
   ],
   "source": [
    "df = pd.read_html(\"https://en.wikipedia.org/wiki/List_of_postal_codes_of_Canada:_M\", header=0)[0]\n",
    "df = df[df['Borough'] != 'Not assigned']\n",
    "df = df.groupby(['Postal Code', 'Borough'], as_index=False)['Neighbourhood'].apply(lambda x: \", \".join(x))\n",
    "df[df['Neighbourhood'] == 'Not assigned'] = df['Borough']\n",
    "print(\"There are \", df.shape[0], \" rows\")"
   ]
  }
 ],
 "metadata": {
  "kernelspec": {
   "display_name": "Python [conda env:coursera] *",
   "language": "python",
   "name": "conda-env-coursera-py"
  },
  "language_info": {
   "codemirror_mode": {
    "name": "ipython",
    "version": 3
   },
   "file_extension": ".py",
   "mimetype": "text/x-python",
   "name": "python",
   "nbconvert_exporter": "python",
   "pygments_lexer": "ipython3",
   "version": "3.9.1"
  },
  "latex_envs": {
   "LaTeX_envs_menu_present": true,
   "autoclose": true,
   "autocomplete": true,
   "bibliofile": "biblio.bib",
   "cite_by": "apalike",
   "current_citInitial": 1,
   "eqLabelWithNumbers": true,
   "eqNumInitial": 1,
   "hotkeys": {
    "equation": "Ctrl-E",
    "itemize": "Ctrl-I"
   },
   "labels_anchors": false,
   "latex_user_defs": false,
   "report_style_numbering": false,
   "user_envs_cfg": false
  },
  "toc": {
   "base_numbering": 1,
   "nav_menu": {},
   "number_sections": false,
   "sideBar": true,
   "skip_h1_title": true,
   "title_cell": "Table of Contents",
   "title_sidebar": "Contents",
   "toc_cell": false,
   "toc_position": {
    "height": "calc(100% - 180px)",
    "left": "10px",
    "top": "150px",
    "width": "346.364px"
   },
   "toc_section_display": true,
   "toc_window_display": true
  }
 },
 "nbformat": 4,
 "nbformat_minor": 5
}
